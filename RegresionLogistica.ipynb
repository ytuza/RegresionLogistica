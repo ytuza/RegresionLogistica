{
  "nbformat": 4,
  "nbformat_minor": 0,
  "metadata": {
    "colab": {
      "name": "RegresionLogistica.ipynb",
      "provenance": [],
      "collapsed_sections": []
    },
    "kernelspec": {
      "name": "python3",
      "display_name": "Python 3"
    }
  },
  "cells": [
    {
      "cell_type": "code",
      "metadata": {
        "id": "g3ZcaY0MtoCm",
        "colab_type": "code",
        "colab": {}
      },
      "source": [
        "import numpy as np\n",
        "import pandas as pd\n",
        "import matplotlib.pyplot as plt\n",
        "from math import sqrt\n",
        "from IPython.display import display, HTML"
      ],
      "execution_count": 0,
      "outputs": []
    },
    {
      "cell_type": "code",
      "metadata": {
        "id": "MG7hZxfuvD4s",
        "colab_type": "code",
        "colab": {}
      },
      "source": [
        "#Librerias para usar Google Drive\n",
        "!pip install -U -q PyDrive\n",
        "from pydrive.auth import GoogleAuth\n",
        "from pydrive.drive import GoogleDrive\n",
        "from google.colab import auth\n",
        "from oauth2client.client import GoogleCredentials"
      ],
      "execution_count": 0,
      "outputs": []
    },
    {
      "cell_type": "code",
      "metadata": {
        "id": "1KbdXuXRvQA7",
        "colab_type": "code",
        "colab": {}
      },
      "source": [
        "# Authenticate and create the PyDrive client.\n",
        "auth.authenticate_user()\n",
        "gauth = GoogleAuth()\n",
        "gauth.credentials = GoogleCredentials.get_application_default()\n",
        "drive = GoogleDrive(gauth)"
      ],
      "execution_count": 0,
      "outputs": []
    },
    {
      "cell_type": "code",
      "metadata": {
        "id": "MLmJd-fhvcLV",
        "colab_type": "code",
        "outputId": "1971eee1-5b26-48bc-b262-da951190aec6",
        "colab": {
          "base_uri": "https://localhost:8080/",
          "height": 51
        }
      },
      "source": [
        "#Leer_Datos\n",
        "data_diab = pd.read_csv('/content/drive/My Drive/2020-1/Data TIA/diabetes.csv',sep='\\t' ,header=0)\n",
        "data_card = pd.read_csv('/content/drive/My Drive/2020-1/Data TIA/Enfermedad_Cardiaca.csv',sep='\\t' ,header=0)\n",
        "\n",
        "def Array(data):\n",
        "  x = np.array(data.iloc[:,0:-1])\n",
        "  y = np.array(data.iloc[:,-1])\n",
        "  return x, y\n",
        "\n",
        "x_Diab , y_Diab = Array(data_diab)\n",
        "x_Card , y_Card = Array(data_card)\n",
        "\n",
        "print(x_Diab.shape)\n",
        "print(x_Card.shape)\n"
      ],
      "execution_count": 3,
      "outputs": [
        {
          "output_type": "stream",
          "text": [
            "(768, 8)\n",
            "(303, 13)\n"
          ],
          "name": "stdout"
        }
      ]
    },
    {
      "cell_type": "code",
      "metadata": {
        "id": "EEB7GRMCCNjV",
        "colab_type": "code",
        "colab": {
          "base_uri": "https://localhost:8080/",
          "height": 119
        },
        "outputId": "f166eb70-44fc-43ef-cdeb-61da17dad06b"
      },
      "source": [
        "def Normalizar_Datos( data ):\n",
        "  last = np.array(data[:,-1])\n",
        "  mean = np.mean(data,0)\n",
        "  stdd = np.std(data,0)\n",
        "  for i in range(0,data.shape[0]):\n",
        "    data[i] = np.true_divide((data[i] - mean), stdd)\n",
        "  data[:,-1] = last[:]\n",
        "  return data\n",
        "\n",
        "\n",
        "def Crear_k_folds(data, lc, k):\n",
        "  data = data.sort_values(lc).values\n",
        "  Normalizar_Datos(data)\n",
        "  r = np.where(np.diff(data[:,-1]))[0]+1\n",
        "  ceros, unos = np.split(data,r)\n",
        "\n",
        "  folds0 = np.array_split(ceros, k)\n",
        "  folds1 = np.array_split(unos, k)\n",
        "  \n",
        "  rpta = list()\n",
        "\n",
        "  for i in range(k):\n",
        "    conc = np.concatenate((folds0[i],folds1[i]))\n",
        "    np.random.shuffle(conc)\n",
        "    rpta.append(conc)\n",
        "\n",
        "  return rpta\n",
        "\n",
        "full_Diab = Crear_k_folds(data_diab,'Outcome',3)\n",
        "full_Card = Crear_k_folds(data_card,'target',3)\n",
        "\n",
        "print(full_Diab[0].shape)\n",
        "print(full_Diab[1].shape)\n",
        "print(full_Diab[2].shape)\n",
        "\n",
        "print(full_Card[0].shape)\n",
        "print(full_Card[1].shape)\n",
        "print(full_Card[2].shape)\n"
      ],
      "execution_count": 5,
      "outputs": [
        {
          "output_type": "stream",
          "text": [
            "(257, 9)\n",
            "(256, 9)\n",
            "(255, 9)\n",
            "(101, 14)\n",
            "(101, 14)\n",
            "(101, 14)\n"
          ],
          "name": "stdout"
        }
      ]
    },
    {
      "cell_type": "code",
      "metadata": {
        "id": "g9y2oXBPCLQe",
        "colab_type": "code",
        "colab": {}
      },
      "source": [
        "def Sigmoidal(X,theta):\n",
        "  h = X.dot(theta.T)\n",
        "  z = 1/(1 + np.exp(-h))\n",
        "  return z\n",
        "\n",
        "def Calcular_Funcion_Costo(x,y,theta):\n",
        "  m = x.shape[0]\n",
        "  h = Sigmoidal(x,theta)\n",
        "  a = np.log(h) * y\n",
        "  b = np.log(1-h) * (1-y)\n",
        "  cost = np.sum(a + b)*(-1/ m)\n",
        "  return cost\n",
        "\n",
        "def Calcular_Gradiente(x,y,theta):\n",
        "  m = x.shape[0]\n",
        "  h = Sigmoidal(x,theta)\n",
        "  dif = h - y\n",
        "  return (x.T).dot(dif) / m\n",
        "\n",
        "def Gradiente_Descendiente(X, Y, Theta, its, alpha):\n",
        "  costos = [0]*its\n",
        "  for itr in range(its):\n",
        "    dev = Calcular_Gradiente(X, Y, Theta)\n",
        "    Theta = Theta - (alpha * dev).T\n",
        "    costos[itr] = Calcular_Funcion_Costo(X, Y, Theta)\n",
        "  return Theta, costos\n",
        "\n",
        "  \n",
        "def Calcular_Accuracy(X, Y, Theta):\n",
        "  yp = Sigmoidal(X, Theta).round()\n",
        "  count = 0\n",
        "  for v in (Y-yp):\n",
        "    if(v == 0):\n",
        "      count = count + 1\n",
        "  return (count/len(Y)) * 100\n",
        "\n",
        "def split_Tr_Te(folds, it , k):\n",
        "  tr = np.array([])\n",
        "  te = np.array([])\n",
        "  for i in range(k):\n",
        "    if i in it:\n",
        "      if len(te) == 0:\n",
        "        te = folds[i]\n",
        "      else:\n",
        "        te = np.concatenate((te,folds[i]))\n",
        "    else:\n",
        "      if len(tr) == 0:\n",
        "        tr = folds[i]\n",
        "      else:\n",
        "        tr = np.concatenate((tr,folds[i]))\n",
        "  return tr, te\n",
        "\n",
        "def addf1(x_data):\n",
        "  return np.insert(x_data, 0, 1, axis=1)\n",
        "\n",
        "def gen_Tr_Te(te_s,tr_s):\n",
        "  te_y = te_s[:,-1:]\n",
        "  te_x = te_s[:,0:-1]\n",
        "  tr_y = tr_s[:,-1:]\n",
        "  tr_x = tr_s[:,0:-1]\n",
        "  \n",
        "  tr_x = addf1(tr_x)\n",
        "  te_x = addf1(te_x)\n",
        "  \n",
        "  return tr_x, tr_y, te_x, te_y\n"
      ],
      "execution_count": 0,
      "outputs": []
    },
    {
      "cell_type": "code",
      "metadata": {
        "id": "Pu4L7P4zX6iK",
        "colab_type": "code",
        "colab": {
          "base_uri": "https://localhost:8080/",
          "height": 251
        },
        "outputId": "c96310ac-e032-48e6-9669-b956afafc7bb"
      },
      "source": [
        "#Experimento 1 Diabetes\n",
        "\n",
        "its = [500, 1000, 1500, 2000, 2500, 3000, 3500]\n",
        "alphas = [0.01, 0.05, 0.1, 0.2, 0.3, 0.4]\n",
        "\n",
        "rpta = np.zeros([len(alphas),len(its)])\n",
        "\n",
        "for k in range(3):\n",
        "  tr_Diab, te_Diab = split_Tr_Te(full_Diab,[k],3)\n",
        "  tr_Diab_x, tr_Diab_y, te_Diab_x, te_Diab_y = gen_Tr_Te(te_Diab,te_Diab)\n",
        "  theta_Diab = np.zeros(tr_Diab_x.shape[1])[np.newaxis]\n",
        "    \n",
        "  for a in  range(len(alphas)):\n",
        "    for itr in range(len(its)):\n",
        "      tmp_theta, _ = Gradiente_Descendiente(tr_Diab_x, tr_Diab_y, theta_Diab, its[itr], alphas[a])\n",
        "      rpta[a,itr] += Calcular_Accuracy(te_Diab_x, te_Diab_y, tmp_theta)\n",
        "\n",
        "rpta = rpta/3\n",
        "min = (0,0)\n",
        "for a in  range(len(alphas)):\n",
        "    for itr in range(len(its)):\n",
        "        if(rpta[a,itr] > rpta[min[0],min[1]]):\n",
        "            min = (a, itr)\n",
        "\n",
        "C_Diab = pd.DataFrame(data = rpta, index= alphas, columns = its)\n",
        "print(\"Mayor accuracy :\",alphas[min[0]],its[min[1]])\n",
        "C_Diab"
      ],
      "execution_count": 18,
      "outputs": [
        {
          "output_type": "stream",
          "text": [
            "Mayor accuracy : 0.05 1500\n"
          ],
          "name": "stdout"
        },
        {
          "output_type": "execute_result",
          "data": {
            "text/html": [
              "<div>\n",
              "<style scoped>\n",
              "    .dataframe tbody tr th:only-of-type {\n",
              "        vertical-align: middle;\n",
              "    }\n",
              "\n",
              "    .dataframe tbody tr th {\n",
              "        vertical-align: top;\n",
              "    }\n",
              "\n",
              "    .dataframe thead th {\n",
              "        text-align: right;\n",
              "    }\n",
              "</style>\n",
              "<table border=\"1\" class=\"dataframe\">\n",
              "  <thead>\n",
              "    <tr style=\"text-align: right;\">\n",
              "      <th></th>\n",
              "      <th>500</th>\n",
              "      <th>1000</th>\n",
              "      <th>1500</th>\n",
              "      <th>2000</th>\n",
              "      <th>2500</th>\n",
              "      <th>3000</th>\n",
              "      <th>3500</th>\n",
              "    </tr>\n",
              "  </thead>\n",
              "  <tbody>\n",
              "    <tr>\n",
              "      <th>0.01</th>\n",
              "      <td>76.294720</td>\n",
              "      <td>77.987448</td>\n",
              "      <td>77.987448</td>\n",
              "      <td>78.378081</td>\n",
              "      <td>78.508290</td>\n",
              "      <td>78.378077</td>\n",
              "      <td>78.639005</td>\n",
              "    </tr>\n",
              "    <tr>\n",
              "      <th>0.05</th>\n",
              "      <td>78.508290</td>\n",
              "      <td>78.639515</td>\n",
              "      <td>78.899932</td>\n",
              "      <td>78.899932</td>\n",
              "      <td>78.899932</td>\n",
              "      <td>78.899932</td>\n",
              "      <td>78.899932</td>\n",
              "    </tr>\n",
              "    <tr>\n",
              "      <th>0.10</th>\n",
              "      <td>78.639515</td>\n",
              "      <td>78.899932</td>\n",
              "      <td>78.899932</td>\n",
              "      <td>78.899932</td>\n",
              "      <td>78.899932</td>\n",
              "      <td>78.899932</td>\n",
              "      <td>78.899932</td>\n",
              "    </tr>\n",
              "    <tr>\n",
              "      <th>0.20</th>\n",
              "      <td>78.899932</td>\n",
              "      <td>78.899932</td>\n",
              "      <td>78.899932</td>\n",
              "      <td>78.899932</td>\n",
              "      <td>78.899932</td>\n",
              "      <td>78.899932</td>\n",
              "      <td>78.899932</td>\n",
              "    </tr>\n",
              "    <tr>\n",
              "      <th>0.30</th>\n",
              "      <td>78.899932</td>\n",
              "      <td>78.899932</td>\n",
              "      <td>78.899932</td>\n",
              "      <td>78.899932</td>\n",
              "      <td>78.899932</td>\n",
              "      <td>78.899932</td>\n",
              "      <td>78.899932</td>\n",
              "    </tr>\n",
              "    <tr>\n",
              "      <th>0.40</th>\n",
              "      <td>78.899932</td>\n",
              "      <td>78.899932</td>\n",
              "      <td>78.899932</td>\n",
              "      <td>78.899932</td>\n",
              "      <td>78.899932</td>\n",
              "      <td>78.899932</td>\n",
              "      <td>78.899932</td>\n",
              "    </tr>\n",
              "  </tbody>\n",
              "</table>\n",
              "</div>"
            ],
            "text/plain": [
              "           500        1000       1500  ...       2500       3000       3500\n",
              "0.01  76.294720  77.987448  77.987448  ...  78.508290  78.378077  78.639005\n",
              "0.05  78.508290  78.639515  78.899932  ...  78.899932  78.899932  78.899932\n",
              "0.10  78.639515  78.899932  78.899932  ...  78.899932  78.899932  78.899932\n",
              "0.20  78.899932  78.899932  78.899932  ...  78.899932  78.899932  78.899932\n",
              "0.30  78.899932  78.899932  78.899932  ...  78.899932  78.899932  78.899932\n",
              "0.40  78.899932  78.899932  78.899932  ...  78.899932  78.899932  78.899932\n",
              "\n",
              "[6 rows x 7 columns]"
            ]
          },
          "metadata": {
            "tags": []
          },
          "execution_count": 18
        }
      ]
    },
    {
      "cell_type": "code",
      "metadata": {
        "id": "RKXUDvsZtaBp",
        "colab_type": "code",
        "colab": {
          "base_uri": "https://localhost:8080/",
          "height": 295
        },
        "outputId": "68687fa7-ba6b-40de-8661-f36b2159310f"
      },
      "source": [
        "#Experimento 2 Diabetes (3 splits)\n",
        "cos = [\"red\",\"blue\",\"green\"]\n",
        "for k in range(3):\n",
        "  tr_Diab, te_Diab = split_Tr_Te(full_Diab,[k],3)\n",
        "  tr_Diab_x, tr_Diab_y, te_Diab_x, te_Diab_y = gen_Tr_Te(te_Diab,te_Diab)\n",
        "  theta_Diab = np.zeros(tr_Diab_x.shape[1])[np.newaxis]\n",
        "  _, costos = Gradiente_Descendiente(tr_Diab_x, tr_Diab_y, theta_Diab, its[min[1]], alphas[min[0]])\n",
        "  plt.scatter(np.arange(its[min[1]]),costos,alpha=0.2, c=cos[k], s=2)\n",
        "  plt.xlabel('Iteracion')\n",
        "  plt.ylabel('Costo')\n",
        "  plt.title('Diabetes')\n"
      ],
      "execution_count": 22,
      "outputs": [
        {
          "output_type": "display_data",
          "data": {
            "image/png": "[encoded data removed]",
            "text/plain": [
              "<Figure size 432x288 with 1 Axes>"
            ]
          },
          "metadata": {
            "tags": [],
            "needs_background": "light"
          }
        }
      ]
    },
    {
      "cell_type": "code",
      "metadata": {
        "id": "OOyxW9q_hER_",
        "colab_type": "code",
        "colab": {
          "base_uri": "https://localhost:8080/",
          "height": 245
        },
        "outputId": "65c47380-95e8-4d01-f6d4-e5e1ab3c5d34"
      },
      "source": [
        "#Experimento 2 Enf Cardiaca\n",
        "\n",
        "rpta2 = np.zeros([len(alphas),len(its)])\n",
        "\n",
        "for k in range(3):\n",
        "  tr_Card, te_Card = split_Tr_Te(full_Card,[k],3)\n",
        "  tr_Card_x, tr_Card_y, te_Card_x, te_Card_y = gen_Tr_Te(te_Card,te_Card)\n",
        "  theta_Card = np.zeros(tr_Card_x.shape[1])[np.newaxis]\n",
        "    \n",
        "  for a in  range(len(alphas)):\n",
        "    for itr in range(len(its)):\n",
        "      tmp_theta, _ = Gradiente_Descendiente(tr_Card_x, tr_Card_y, theta_Card, its[itr], alphas[a])\n",
        "      rpta2[a,itr] += Calcular_Accuracy(te_Card_x, te_Card_y, tmp_theta)\n",
        "\n",
        "rpta2 = rpta2/3\n",
        "min2 = (0,0)\n",
        "for ta in  range(len(alphas)):\n",
        "    for itr in range(len(its)):\n",
        "        if(rpta2[ta,itr] > rpta2[min2[0],min2[1]]):\n",
        "            min2 = (ta, itr)\n",
        "\n",
        "C_Card = pd.DataFrame(data = rpta2, index= alphas, columns = its)\n",
        "print(\"Mayor accuracy:\",alphas[min2[0]],its[min2[1]])\n",
        "C_Card"
      ],
      "execution_count": 19,
      "outputs": [
        {
          "output_type": "stream",
          "text": [
            "Mayor accuracy: 0.05 1000\n"
          ],
          "name": "stdout"
        },
        {
          "output_type": "execute_result",
          "data": {
            "text/html": [
              "<div>\n",
              "<style scoped>\n",
              "    .dataframe tbody tr th:only-of-type {\n",
              "        vertical-align: middle;\n",
              "    }\n",
              "\n",
              "    .dataframe tbody tr th {\n",
              "        vertical-align: top;\n",
              "    }\n",
              "\n",
              "    .dataframe thead th {\n",
              "        text-align: right;\n",
              "    }\n",
              "</style>\n",
              "<table border=\"1\" class=\"dataframe\">\n",
              "  <thead>\n",
              "    <tr style=\"text-align: right;\">\n",
              "      <th></th>\n",
              "      <th>500</th>\n",
              "      <th>1000</th>\n",
              "      <th>1500</th>\n",
              "      <th>2000</th>\n",
              "      <th>2500</th>\n",
              "      <th>3000</th>\n",
              "      <th>3500</th>\n",
              "    </tr>\n",
              "  </thead>\n",
              "  <tbody>\n",
              "    <tr>\n",
              "      <th>0.01</th>\n",
              "      <td>84.818482</td>\n",
              "      <td>87.128713</td>\n",
              "      <td>86.798680</td>\n",
              "      <td>87.788779</td>\n",
              "      <td>87.458746</td>\n",
              "      <td>88.118812</td>\n",
              "      <td>88.118812</td>\n",
              "    </tr>\n",
              "    <tr>\n",
              "      <th>0.05</th>\n",
              "      <td>87.458746</td>\n",
              "      <td>88.448845</td>\n",
              "      <td>88.118812</td>\n",
              "      <td>87.788779</td>\n",
              "      <td>87.788779</td>\n",
              "      <td>87.788779</td>\n",
              "      <td>87.788779</td>\n",
              "    </tr>\n",
              "    <tr>\n",
              "      <th>0.10</th>\n",
              "      <td>88.448845</td>\n",
              "      <td>87.788779</td>\n",
              "      <td>87.788779</td>\n",
              "      <td>87.788779</td>\n",
              "      <td>87.788779</td>\n",
              "      <td>87.788779</td>\n",
              "      <td>87.788779</td>\n",
              "    </tr>\n",
              "    <tr>\n",
              "      <th>0.20</th>\n",
              "      <td>87.788779</td>\n",
              "      <td>87.788779</td>\n",
              "      <td>87.788779</td>\n",
              "      <td>87.788779</td>\n",
              "      <td>87.788779</td>\n",
              "      <td>87.788779</td>\n",
              "      <td>87.788779</td>\n",
              "    </tr>\n",
              "    <tr>\n",
              "      <th>0.30</th>\n",
              "      <td>87.788779</td>\n",
              "      <td>87.788779</td>\n",
              "      <td>87.788779</td>\n",
              "      <td>87.788779</td>\n",
              "      <td>87.788779</td>\n",
              "      <td>87.788779</td>\n",
              "      <td>87.788779</td>\n",
              "    </tr>\n",
              "    <tr>\n",
              "      <th>0.40</th>\n",
              "      <td>87.788779</td>\n",
              "      <td>87.788779</td>\n",
              "      <td>87.788779</td>\n",
              "      <td>87.788779</td>\n",
              "      <td>87.788779</td>\n",
              "      <td>87.788779</td>\n",
              "      <td>87.788779</td>\n",
              "    </tr>\n",
              "  </tbody>\n",
              "</table>\n",
              "</div>"
            ],
            "text/plain": [
              "           500        1000       1500  ...       2500       3000       3500\n",
              "0.01  84.818482  87.128713  86.798680  ...  87.458746  88.118812  88.118812\n",
              "0.05  87.458746  88.448845  88.118812  ...  87.788779  87.788779  87.788779\n",
              "0.10  88.448845  87.788779  87.788779  ...  87.788779  87.788779  87.788779\n",
              "0.20  87.788779  87.788779  87.788779  ...  87.788779  87.788779  87.788779\n",
              "0.30  87.788779  87.788779  87.788779  ...  87.788779  87.788779  87.788779\n",
              "0.40  87.788779  87.788779  87.788779  ...  87.788779  87.788779  87.788779\n",
              "\n",
              "[6 rows x 7 columns]"
            ]
          },
          "metadata": {
            "tags": []
          },
          "execution_count": 19
        }
      ]
    },
    {
      "cell_type": "code",
      "metadata": {
        "id": "Vzng1BKduW0L",
        "colab_type": "code",
        "colab": {
          "base_uri": "https://localhost:8080/",
          "height": 294
        },
        "outputId": "5c390936-fd45-426a-c8dd-43641a2b169d"
      },
      "source": [
        "#Experimento 2 Enf Cardiaca (3 splits)\n",
        "cos = [\"red\",\"blue\",\"green\"]\n",
        "for k in range(3):\n",
        "  tr_Card, te_Card = split_Tr_Te(full_Card,[k],3)\n",
        "  tr_Card_x, tr_Card_y, te_Card_x, te_Card_y = gen_Tr_Te(te_Card,te_Card)\n",
        "  theta_Card = np.zeros(tr_Card_x.shape[1])[np.newaxis]\n",
        "\n",
        "  _, costos = Gradiente_Descendiente(tr_Card_x, tr_Card_y, theta_Card, its[min2[1]], alphas[min2[0]])\n",
        "  plt.scatter(np.arange(its[min2[1]]),costos,alpha=0.2, c=cos[k], s=2)\n",
        "  plt.xlabel('Iteracion')\n",
        "  plt.ylabel('Costo')\n",
        "  plt.title('Enfermedad Cardiaca')"
      ],
      "execution_count": 24,
      "outputs": [
        {
          "output_type": "display_data",
          "data": {
            "image/png": "[encoded data removed]",
            "text/plain": [
              "<Figure size 432x288 with 1 Axes>"
            ]
          },
          "metadata": {
            "tags": [],
            "needs_background": "light"
          }
        }
      ]
    }
  ]
}
